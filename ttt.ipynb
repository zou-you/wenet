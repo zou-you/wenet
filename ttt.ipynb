{
 "cells": [
  {
   "cell_type": "code",
   "execution_count": 19,
   "metadata": {},
   "outputs": [
    {
     "name": "stdout",
     "output_type": "stream",
     "text": [
      "未找到匹配项\n"
     ]
    }
   ],
   "source": [
    "import re\n",
    "\n",
    "text = \"This is so[CH]me. [+]\"\n",
    "\n",
    "pattern = re.compile(r'\\[(SYSTEM|LAUGHTER|SONANT|ENS|MUSIC|\\+|\\*)\\]|[\\+]')\n",
    "pattern = re.compile(r'\\[(CHS|PII)\\]')\n",
    "match = pattern.search(text)\n",
    "\n",
    "if match:\n",
    "    print(\"找到匹配项:\", match.group())\n",
    "else:\n",
    "    print(\"未找到匹配项\")\n"
   ]
  },
  {
   "cell_type": "code",
   "execution_count": 18,
   "metadata": {},
   "outputs": [
    {
     "name": "stdout",
     "output_type": "stream",
     "text": [
      "提取的数字: 8.473 12.752\n"
     ]
    }
   ],
   "source": [
    "import re\n",
    "\n",
    "text = '[8.473,12.752]'\n",
    "\n",
    "pattern = r'\\[([\\d.]+),([\\d.]+)\\]'\n",
    "match = re.match(pattern, text)\n",
    "\n",
    "if match:\n",
    "    number1 = float(match.group(1))\n",
    "    number2 = float(match.group(2))\n",
    "    print(\"提取的数字:\", number1, number2)\n",
    "else:\n",
    "    print(\"未匹配到\")\n"
   ]
  },
  {
   "cell_type": "code",
   "execution_count": 39,
   "metadata": {},
   "outputs": [
    {
     "name": "stdout",
     "output_type": "stream",
     "text": [
      "替换后的文本: 系啊我身边有一个王嘟老友之á前借我一万蚊\n"
     ]
    }
   ],
   "source": [
    "import re\n",
    "\n",
    "text = \"系啊，我身边有一个王嘟//老友， 之·、á前借我一万蚊\"\n",
    "\n",
    "# 使用正则表达式替换标点符号为空格\n",
    "cleaned_text = re.sub(r'[.,!?;:！。，？/·、\\s]', '', text)\n",
    "\n",
    "print(\"替换后的文本:\", cleaned_text)\n"
   ]
  },
  {
   "cell_type": "code",
   "execution_count": 31,
   "metadata": {},
   "outputs": [
    {
     "name": "stdout",
     "output_type": "stream",
     "text": [
      "替换后的文本: \n"
     ]
    }
   ],
   "source": [
    "\n",
    "\n",
    "import re\n",
    "\n",
    "text = \"哦\"\n",
    "\n",
    "# 使用正则表达式替换标点符号为空格\n",
    "cleaned_text = re.sub(r'^[嗯对哦]$', '', text)\n",
    "\n",
    "print(\"替换后的文本:\", cleaned_text)"
   ]
  },
  {
   "cell_type": "code",
   "execution_count": 33,
   "metadata": {},
   "outputs": [
    {
     "name": "stdout",
     "output_type": "stream",
     "text": [
      "JSON 文件保存成功\n"
     ]
    }
   ],
   "source": [
    "import json\n",
    "\n",
    "# 要保存的数据\n",
    "data = {\n",
    "    \"name\": \"John\",\n",
    "    \"age\": 30,\n",
    "    \"city\": \"New York\"\n",
    "}\n",
    "\n",
    "# 指定要保存的 JSON 文件路径\n",
    "json_file_path = \"data.json\"\n",
    "\n",
    "# 使用 json.dump() 将数据写入 JSON 文件\n",
    "with open(json_file_path, \"w\") as json_file:\n",
    "    json.dump(data, json_file)\n",
    "\n",
    "print(\"JSON 文件保存成功\")\n"
   ]
  },
  {
   "cell_type": "code",
   "execution_count": 34,
   "metadata": {},
   "outputs": [],
   "source": [
    "from pathlib import Path"
   ]
  },
  {
   "cell_type": "code",
   "execution_count": 35,
   "metadata": {},
   "outputs": [],
   "source": [
    "a = Path('/home/zouyou')\n",
    "b = Path('/home/zouyou/a/b')"
   ]
  },
  {
   "cell_type": "code",
   "execution_count": 37,
   "metadata": {},
   "outputs": [
    {
     "data": {
      "text/plain": [
       "PosixPath('a/b')"
      ]
     },
     "execution_count": 37,
     "metadata": {},
     "output_type": "execute_result"
    }
   ],
   "source": [
    "b.relative_to(a)"
   ]
  },
  {
   "cell_type": "code",
   "execution_count": 2,
   "metadata": {},
   "outputs": [
    {
     "name": "stdout",
     "output_type": "stream",
     "text": [
      "([1, 2],)\n",
      "([3, 4],)\n"
     ]
    }
   ],
   "source": [
    "for i in zip(([1,2], [3, 4])):\n",
    "    print(i)"
   ]
  },
  {
   "cell_type": "code",
   "execution_count": 1,
   "metadata": {},
   "outputs": [],
   "source": [
    "a =  [1, 2, 3, 4]"
   ]
  },
  {
   "cell_type": "code",
   "execution_count": 2,
   "metadata": {},
   "outputs": [
    {
     "data": {
      "text/plain": [
       "[1, 2, 3, 4]"
      ]
     },
     "execution_count": 2,
     "metadata": {},
     "output_type": "execute_result"
    }
   ],
   "source": [
    "a[0: len(a)]"
   ]
  },
  {
   "cell_type": "code",
   "execution_count": 3,
   "metadata": {},
   "outputs": [
    {
     "data": {
      "text/plain": [
       "[]"
      ]
     },
     "execution_count": 3,
     "metadata": {},
     "output_type": "execute_result"
    }
   ],
   "source": [
    "a[0: -10]"
   ]
  },
  {
   "cell_type": "code",
   "execution_count": 24,
   "metadata": {},
   "outputs": [],
   "source": [
    "text_path = \"/home/zouyou/workspaces/ASR/wenet/examples/dialects/s0/data/粤语/test/text\"\n",
    "rec_path = \"/home/zouyou/workspaces/KRI/ASR_Server/tests/rec_res.txt\""
   ]
  },
  {
   "cell_type": "code",
   "execution_count": 30,
   "metadata": {},
   "outputs": [],
   "source": [
    "id_text_dct = {}\n",
    "with open(text_path, 'r') as ft:\n",
    "    for line in ft:\n",
    "        id, text = line.strip().split('\\t')\n",
    "        # print(id, text)\n",
    "        id_text_dct[id.split('-', 1)[0]] = text\n"
   ]
  },
  {
   "cell_type": "code",
   "execution_count": 39,
   "metadata": {},
   "outputs": [],
   "source": [
    "G2115_rec_text = {}\n",
    "with open(rec_path, 'r') as ft, open(\"粤语G2115_ori\", 'w') as fw:\n",
    "    for line in ft:\n",
    "        item = line.strip().split('\\t')\n",
    "        id = item if isinstance(item, str) else item[0]\n",
    "        text = id_text_dct[id]\n",
    "        fw.write(f'{id}\\t{text}\\n')"
   ]
  },
  {
   "cell_type": "code",
   "execution_count": 43,
   "metadata": {},
   "outputs": [
    {
     "data": {
      "text/plain": [
       "''"
      ]
     },
     "execution_count": 43,
     "metadata": {},
     "output_type": "execute_result"
    }
   ],
   "source": [
    "''.join(' '.strip().split())"
   ]
  },
  {
   "cell_type": "code",
   "execution_count": null,
   "metadata": {},
   "outputs": [],
   "source": []
  }
 ],
 "metadata": {
  "kernelspec": {
   "display_name": "asrWenet",
   "language": "python",
   "name": "python3"
  },
  "language_info": {
   "codemirror_mode": {
    "name": "ipython",
    "version": 3
   },
   "file_extension": ".py",
   "mimetype": "text/x-python",
   "name": "python",
   "nbconvert_exporter": "python",
   "pygments_lexer": "ipython3",
   "version": "3.8.16"
  },
  "orig_nbformat": 4
 },
 "nbformat": 4,
 "nbformat_minor": 2
}
